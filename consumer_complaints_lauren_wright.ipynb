{
 "cells": [
  {
   "cell_type": "markdown",
   "metadata": {},
   "source": [
    "# Lauren Wright\n",
    "## Consumer Complaints\n",
    "### Capstone Project for Code Louisville - Python and SQL for Data Analysis\n",
    "[Helpful Markdown Tips](http://nestacms.com/docs/creating-content/markdown-cheat-sheet)"
   ]
  },
  {
   "cell_type": "code",
   "execution_count": 74,
   "metadata": {},
   "outputs": [],
   "source": [
    "import numpy as np\n",
    "import pandas as pd\n",
    "import matplotlib.pyplot as plt\n",
    "import sqlite3 "
   ]
  },
  {
   "cell_type": "markdown",
   "metadata": {},
   "source": [
    "# SQLite Database\n",
    "Original data was downloaded from data.gov. I have broken down the data into following CSVs, which have been imported into the SQLite Database included with this notebook:\n",
    "* monetary.csv\n",
    "* Consumer_Complaints_states_all_response.csv"
   ]
  },
  {
   "cell_type": "markdown",
   "metadata": {},
   "source": [
    "# SQLite Connection\n",
    "In this section, we will:\n",
    "* Establisch a connection to our SQLite Database\n",
    "* Open a cursor, allowing us to query the database directly using SQL commands from within our Jupyter Notebook (python)\n",
    "* Pass a SQL statement as a python string variable\n",
    "* Pass our SQL statement and database connection to obtain a pandas dataframe\n",
    "* Commit all transactions - In this case, we are not modifying data, so committing our transactions is not necessary, but good practice.\n",
    "* Lastly, we will close our database connection"
   ]
  },
  {
   "cell_type": "code",
   "execution_count": 75,
   "metadata": {},
   "outputs": [],
   "source": [
    "# SQLite Connection\n",
    "conn = sqlite3.connect(\"LaurenDB.db\")\n",
    "cur = conn.cursor()\n",
    "#---------------------------------------------------------------------#\n",
    "\n",
    "#Create the SQL Query String and Save it to a variable\n",
    "sql_monetary = \"SELECT * FROM monetary ORDER BY CAST(monetary_relief AS NUMERIC) DESC\"\n",
    "#Pass the SQL String and connection to a pandas dataframe\n",
    "monetary = pd.read_sql_query(sql_monetary, conn)\n",
    "\n",
    "#Create the SQL Query String and Save it to a variable\n",
    "sql_complaints_all_df = \"SELECT * FROM Consumer_Complaints_states_all_response ORDER BY CAST(Response AS NUMERIC) ASC\"\n",
    "#Pass the SQL String and connection to a pandas dataframe\n",
    "complaints_all_df = pd.read_sql_query(sql_complaints_all_df, conn)\n",
    "\n",
    "conn.commit()\n",
    "conn.close()"
   ]
  },
  {
   "cell_type": "markdown",
   "metadata": {},
   "source": [
    "## Inspect Newly Imported DataFrames"
   ]
  },
  {
   "cell_type": "code",
   "execution_count": 76,
   "metadata": {},
   "outputs": [
    {
     "data": {
      "text/html": [
       "<div>\n",
       "<style scoped>\n",
       "    .dataframe tbody tr th:only-of-type {\n",
       "        vertical-align: middle;\n",
       "    }\n",
       "\n",
       "    .dataframe tbody tr th {\n",
       "        vertical-align: top;\n",
       "    }\n",
       "\n",
       "    .dataframe thead th {\n",
       "        text-align: right;\n",
       "    }\n",
       "</style>\n",
       "<table border=\"1\" class=\"dataframe\">\n",
       "  <thead>\n",
       "    <tr style=\"text-align: right;\">\n",
       "      <th></th>\n",
       "      <th>StateUS</th>\n",
       "      <th>monetary_relief</th>\n",
       "    </tr>\n",
       "  </thead>\n",
       "  <tbody>\n",
       "    <tr>\n",
       "      <th>0</th>\n",
       "      <td>CA</td>\n",
       "      <td>8588</td>\n",
       "    </tr>\n",
       "    <tr>\n",
       "      <th>1</th>\n",
       "      <td>NY</td>\n",
       "      <td>5395</td>\n",
       "    </tr>\n",
       "    <tr>\n",
       "      <th>2</th>\n",
       "      <td>FL</td>\n",
       "      <td>5369</td>\n",
       "    </tr>\n",
       "    <tr>\n",
       "      <th>3</th>\n",
       "      <td>TX</td>\n",
       "      <td>4055</td>\n",
       "    </tr>\n",
       "    <tr>\n",
       "      <th>4</th>\n",
       "      <td>NJ</td>\n",
       "      <td>2831</td>\n",
       "    </tr>\n",
       "  </tbody>\n",
       "</table>\n",
       "</div>"
      ],
      "text/plain": [
       "  StateUS monetary_relief\n",
       "0      CA            8588\n",
       "1      NY            5395\n",
       "2      FL            5369\n",
       "3      TX            4055\n",
       "4      NJ            2831"
      ]
     },
     "execution_count": 76,
     "metadata": {},
     "output_type": "execute_result"
    }
   ],
   "source": [
    "#View the Head of the monetary dataframe.  At first glance, the data looks alright.\n",
    "monetary.head()"
   ]
  },
  {
   "cell_type": "code",
   "execution_count": 77,
   "metadata": {},
   "outputs": [
    {
     "data": {
      "text/html": [
       "<div>\n",
       "<style scoped>\n",
       "    .dataframe tbody tr th:only-of-type {\n",
       "        vertical-align: middle;\n",
       "    }\n",
       "\n",
       "    .dataframe tbody tr th {\n",
       "        vertical-align: top;\n",
       "    }\n",
       "\n",
       "    .dataframe thead th {\n",
       "        text-align: right;\n",
       "    }\n",
       "</style>\n",
       "<table border=\"1\" class=\"dataframe\">\n",
       "  <thead>\n",
       "    <tr style=\"text-align: right;\">\n",
       "      <th></th>\n",
       "      <th>StateUS</th>\n",
       "      <th>Response</th>\n",
       "    </tr>\n",
       "  </thead>\n",
       "  <tbody>\n",
       "    <tr>\n",
       "      <th>0</th>\n",
       "      <td>PW</td>\n",
       "      <td>13</td>\n",
       "    </tr>\n",
       "    <tr>\n",
       "      <th>1</th>\n",
       "      <td>UNITED STATES MINOR OUTLYING ISLANDS</td>\n",
       "      <td>15</td>\n",
       "    </tr>\n",
       "    <tr>\n",
       "      <th>2</th>\n",
       "      <td>AA</td>\n",
       "      <td>18</td>\n",
       "    </tr>\n",
       "    <tr>\n",
       "      <th>3</th>\n",
       "      <td>AS</td>\n",
       "      <td>27</td>\n",
       "    </tr>\n",
       "    <tr>\n",
       "      <th>4</th>\n",
       "      <td>MH</td>\n",
       "      <td>30</td>\n",
       "    </tr>\n",
       "  </tbody>\n",
       "</table>\n",
       "</div>"
      ],
      "text/plain": [
       "                                StateUS Response\n",
       "0                                    PW       13\n",
       "1  UNITED STATES MINOR OUTLYING ISLANDS       15\n",
       "2                                    AA       18\n",
       "3                                    AS       27\n",
       "4                                    MH       30"
      ]
     },
     "execution_count": 77,
     "metadata": {},
     "output_type": "execute_result"
    }
   ],
   "source": [
    "#View the Head of the complaints_all_df dataframe.  At first glance, the data looks alright.\n",
    "complaints_all_df.head()"
   ]
  },
  {
   "cell_type": "markdown",
   "metadata": {},
   "source": [
    "## Inspect Datatypes of DataFrames and Columns\n",
    "In this section, we will inspect the data types of our DataFrames and columns.  Graphing and calculations will require numeric datatypes.  If we do not have the correct type of data, we will need to make conversions."
   ]
  },
  {
   "cell_type": "code",
   "execution_count": 78,
   "metadata": {},
   "outputs": [
    {
     "data": {
      "text/plain": [
       "pandas.core.frame.DataFrame"
      ]
     },
     "execution_count": 78,
     "metadata": {},
     "output_type": "execute_result"
    }
   ],
   "source": [
    "#Inspect type of complaints_all_df.  It's a dataframe.\n",
    "type(complaints_all_df)"
   ]
  },
  {
   "cell_type": "code",
   "execution_count": 79,
   "metadata": {},
   "outputs": [
    {
     "name": "stdout",
     "output_type": "stream",
     "text": [
      "<class 'pandas.core.frame.DataFrame'>\n",
      "RangeIndex: 64 entries, 0 to 63\n",
      "Data columns (total 2 columns):\n",
      "StateUS     64 non-null object\n",
      "Response    64 non-null object\n",
      "dtypes: object(2)\n",
      "memory usage: 1.1+ KB\n"
     ]
    }
   ],
   "source": [
    "#Gather information about the complaints_all_df dataframe.\n",
    "#We observer Response is of type 64 non-null object.  We will need this column to be numeric for graphing purposes.\n",
    "complaints_all_df.info()"
   ]
  },
  {
   "cell_type": "code",
   "execution_count": 80,
   "metadata": {},
   "outputs": [
    {
     "data": {
      "text/plain": [
       "StateUS     object\n",
       "Response    object\n",
       "dtype: object"
      ]
     },
     "execution_count": 80,
     "metadata": {},
     "output_type": "execute_result"
    }
   ],
   "source": [
    "#Inspect the data types of the columns in complaints_all_df\n",
    "#Again, we see Response is an object, not a float or integer, etc.\n",
    "complaints_all_df.dtypes"
   ]
  },
  {
   "cell_type": "markdown",
   "metadata": {},
   "source": [
    "## Convert Data Types "
   ]
  },
  {
   "cell_type": "code",
   "execution_count": 81,
   "metadata": {},
   "outputs": [],
   "source": [
    "#We can apply a numeric conversion to the Response column of the complaints_all_df dataframe.\n",
    "#We will store this converted column in a new dataframe.\n",
    "#There is only one column in this new dataframe.\n",
    "complaints_all_df_Response = complaints_all_df[['Response']].apply(pd.to_numeric)"
   ]
  },
  {
   "cell_type": "code",
   "execution_count": 82,
   "metadata": {},
   "outputs": [],
   "source": [
    "#We will now return to our original dataframe, complaints_all_df, and set the original Response column with the numeric version we just created.\n",
    "complaints_all_df['Response'] = complaints_all_df_Response['Response']"
   ]
  },
  {
   "cell_type": "code",
   "execution_count": 83,
   "metadata": {},
   "outputs": [
    {
     "data": {
      "text/html": [
       "<div>\n",
       "<style scoped>\n",
       "    .dataframe tbody tr th:only-of-type {\n",
       "        vertical-align: middle;\n",
       "    }\n",
       "\n",
       "    .dataframe tbody tr th {\n",
       "        vertical-align: top;\n",
       "    }\n",
       "\n",
       "    .dataframe thead th {\n",
       "        text-align: right;\n",
       "    }\n",
       "</style>\n",
       "<table border=\"1\" class=\"dataframe\">\n",
       "  <thead>\n",
       "    <tr style=\"text-align: right;\">\n",
       "      <th></th>\n",
       "      <th>StateUS</th>\n",
       "      <th>Response</th>\n",
       "    </tr>\n",
       "  </thead>\n",
       "  <tbody>\n",
       "    <tr>\n",
       "      <th>0</th>\n",
       "      <td>PW</td>\n",
       "      <td>13</td>\n",
       "    </tr>\n",
       "    <tr>\n",
       "      <th>1</th>\n",
       "      <td>UNITED STATES MINOR OUTLYING ISLANDS</td>\n",
       "      <td>15</td>\n",
       "    </tr>\n",
       "    <tr>\n",
       "      <th>2</th>\n",
       "      <td>AA</td>\n",
       "      <td>18</td>\n",
       "    </tr>\n",
       "    <tr>\n",
       "      <th>3</th>\n",
       "      <td>AS</td>\n",
       "      <td>27</td>\n",
       "    </tr>\n",
       "    <tr>\n",
       "      <th>4</th>\n",
       "      <td>MH</td>\n",
       "      <td>30</td>\n",
       "    </tr>\n",
       "  </tbody>\n",
       "</table>\n",
       "</div>"
      ],
      "text/plain": [
       "                                StateUS  Response\n",
       "0                                    PW        13\n",
       "1  UNITED STATES MINOR OUTLYING ISLANDS        15\n",
       "2                                    AA        18\n",
       "3                                    AS        27\n",
       "4                                    MH        30"
      ]
     },
     "execution_count": 83,
     "metadata": {},
     "output_type": "execute_result"
    }
   ],
   "source": [
    "#The heading of the modified dataframe looks fine.\n",
    "complaints_all_df.head()"
   ]
  },
  {
   "cell_type": "code",
   "execution_count": 84,
   "metadata": {},
   "outputs": [
    {
     "data": {
      "text/plain": [
       "StateUS     object\n",
       "Response     int64\n",
       "dtype: object"
      ]
     },
     "execution_count": 84,
     "metadata": {},
     "output_type": "execute_result"
    }
   ],
   "source": [
    "#Now check the data types.\n",
    "#Good, we wanted Response converted to something numeric. In this case, an integer.\n",
    "complaints_all_df.dtypes"
   ]
  },
  {
   "cell_type": "markdown",
   "metadata": {},
   "source": [
    "# Complaint Responses By State"
   ]
  },
  {
   "cell_type": "code",
   "execution_count": 85,
   "metadata": {},
   "outputs": [
    {
     "data": {
      "image/png": "[encoded data removed]",
      "text/plain": [
       "<matplotlib.figure.Figure at 0x9a670b8>"
      ]
     },
     "metadata": {},
     "output_type": "display_data"
    }
   ],
   "source": [
    "ax = complaints_all_df[['StateUS','Response']].plot(kind='barh', title ='Complaint Responses by State', figsize=(20, 15), legend=True, fontsize=12)\n",
    "ax.set_yticklabels(complaints_all_df.StateUS)\n",
    "ax.set_xlabel(\"Response\", fontsize=12)\n",
    "ax.set_ylabel(\"State\", fontsize=12)\n",
    "plt.show()"
   ]
  },
  {
   "cell_type": "code",
   "execution_count": 86,
   "metadata": {},
   "outputs": [],
   "source": [
    "#Based on the naming convention below, we will set monetary to the variable name already in use.\n",
    "complaints_money_df = monetary"
   ]
  },
  {
   "cell_type": "markdown",
   "metadata": {},
   "source": [
    "## Repeat the Data Inspection and Conversion Process"
   ]
  },
  {
   "cell_type": "code",
   "execution_count": 87,
   "metadata": {},
   "outputs": [
    {
     "data": {
      "text/plain": [
       "StateUS            object\n",
       "monetary_relief    object\n",
       "dtype: object"
      ]
     },
     "execution_count": 87,
     "metadata": {},
     "output_type": "execute_result"
    }
   ],
   "source": [
    "complaints_money_df.dtypes"
   ]
  },
  {
   "cell_type": "code",
   "execution_count": 88,
   "metadata": {},
   "outputs": [],
   "source": [
    "complaints_money_df_monetary_relief = complaints_money_df[['monetary_relief']].apply(pd.to_numeric)"
   ]
  },
  {
   "cell_type": "code",
   "execution_count": 89,
   "metadata": {},
   "outputs": [],
   "source": [
    "complaints_money_df['monetary_relief'] = complaints_money_df_monetary_relief['monetary_relief']"
   ]
  },
  {
   "cell_type": "code",
   "execution_count": 90,
   "metadata": {},
   "outputs": [
    {
     "data": {
      "text/plain": [
       "StateUS            object\n",
       "monetary_relief     int64\n",
       "dtype: object"
      ]
     },
     "execution_count": 90,
     "metadata": {},
     "output_type": "execute_result"
    }
   ],
   "source": [
    "complaints_money_df.dtypes"
   ]
  },
  {
   "cell_type": "markdown",
   "metadata": {},
   "source": [
    "# Monetary Relief by State"
   ]
  },
  {
   "cell_type": "code",
   "execution_count": 91,
   "metadata": {
    "scrolled": false
   },
   "outputs": [
    {
     "data": {
      "image/png": "[encoded data removed]",
      "text/plain": [
       "<matplotlib.figure.Figure at 0x92d8080>"
      ]
     },
     "metadata": {},
     "output_type": "display_data"
    }
   ],
   "source": [
    "ax = complaints_money_df[['StateUS','monetary_relief']].plot(kind='barh', title ='Monetary Relief by State', figsize=(20, 15), legend=True, fontsize=12)\n",
    "ax.set_yticklabels(complaints_money_df.StateUS)\n",
    "ax.set_xlabel(\"Monetary Relief\", fontsize=12)\n",
    "ax.set_ylabel(\"State\", fontsize=12)\n",
    "plt.show()\n"
   ]
  },
  {
   "cell_type": "markdown",
   "metadata": {},
   "source": [
    "# Results Summary\n",
    "\n",
    "* Consumer complaints and the frequency of recieving monetary relief\n",
    "\n",
    "* Code Louisville Python Project\n",
    "\n",
    "* You will need: Jupyter Notebook Numpy Matplotlib Pandas\n",
    "\n",
    "* My question was: Which state had the highest amount of consumer complaints and which state recieved the most closed with monetary relief responses from companies.\n",
    "\n",
    "* I isolated the reponses from the original dataset into one file and the monetary reponses by state into another file and sorted them in descending order by reponses. By sheer number of complaints and monetary responses California definitely won out, but that's not surprising given the population size of California.\n",
    "\n",
    "* To go further with this project after class it would be interesting to see this data laid out after adjusted for population size because while California"
   ]
  }
 ],
 "metadata": {
  "kernelspec": {
   "display_name": "Python 3",
   "language": "python",
   "name": "python3"
  },
  "language_info": {
   "codemirror_mode": {
    "name": "ipython",
    "version": 3
   },
   "file_extension": ".py",
   "mimetype": "text/x-python",
   "name": "python",
   "nbconvert_exporter": "python",
   "pygments_lexer": "ipython3",
   "version": "3.6.4"
  }
 },
 "nbformat": 4,
 "nbformat_minor": 2
}
